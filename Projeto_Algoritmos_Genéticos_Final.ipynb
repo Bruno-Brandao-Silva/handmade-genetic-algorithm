{
  "cells": [
    {
      "cell_type": "markdown",
      "id": "3hxRzjCL8IM6",
      "metadata": {
        "id": "3hxRzjCL8IM6"
      },
      "source": [
        "Algoritmo Genético\n",
        "\n",
        "Problema otimização de função contínua\n",
        "\n",
        "Grupo: Risadinhas\n",
        "\n",
        "Desenvolvido por:\n",
        "\n",
        "- Bruno Brandão Silva R.A.: 2142554\n",
        "\n",
        "- Lucas Otavio Leme Silva R.A.: 2142996\n",
        "\n",
        "- Mário Nakazato Neto R.A.: 2142643"
      ]
    },
    {
      "cell_type": "markdown",
      "id": "XsxcghXCLK8_",
      "metadata": {
        "id": "XsxcghXCLK8_"
      },
      "source": [
        "# Neste projeto, dois exercícios de otimização deverão ser implementados:\n",
        "\n",
        "-   Quartic Function;\n",
        "-   Ackley Function;\n",
        "\n",
        "**Observações:**\n",
        "\n",
        "1. Manter a codificação por list();\n",
        "2. Deverá conter na list a representação binária e o fitness (similiar ao código função seno);\n",
        "3. Seleção, cruzamento e mutação poderão ser as mesmas utilizas nos códigos anteriores;\n",
        "4. Deverá utilizar elitismo;\n",
        "\n",
        "**Responder as seguintes questões para cada função avaliada:**\n",
        "\n",
        "1.  melhor, pior, média e desvio padrão do fitness da população final;\n",
        "2.  Apresentar a quantidade de iterações utilizadas para dois tipos de critério de convergência por estagnação, sendo eles:\n",
        "\n",
        "-   quando $n$ últimas iterações não encontrarem uma melhor solução, sendo $n$ definido como parâmentro;\n",
        "-   Quando uma (%) da população convergir para o mesmo valor. A porcentagem deverá ser definida como parâmetro.\n",
        "\n",
        "**Pontuação**\n",
        "\n",
        "-   Para as duas funções serão atribuídos as seguintes notas:\n",
        "\n",
        "    -   Resolução com apenas 1 dimensão (nota 8,0)\n",
        "    -   Resolução com 2 dimensões (nota 9,0)\n",
        "    -   Resolução com 3 ou mais dimensões (nota 10,0)\n",
        "\n",
        "**Data Envio:**\n",
        "\n",
        "-   21 de Outubro\n"
      ]
    },
    {
      "cell_type": "markdown",
      "id": "1e0nOcobLMP2",
      "metadata": {
        "id": "1e0nOcobLMP2"
      },
      "source": [
        "##**Exercício 1: Quartic function**\n",
        "\n",
        "-   https://www.cs.unm.edu/~neal.holts/dga/benchmarkFunction/quartic.html\n",
        "-   https://www.indusmic.com/post/quartic-function\n",
        "\n",
        "$$f(x) = \\sum_{i=0}^n i x_i^4 + \\text{random}[0,1]$$\n",
        "\n",
        "$$-1.28 \\leq x \\leq 1.28$$\n",
        "\n",
        "$$\\text{minimum at }f(0) = 0 + noise$$\n"
      ]
    },
    {
      "cell_type": "code",
      "execution_count": null,
      "id": "---KqBJyMJ9Q",
      "metadata": {
        "colab": {
          "base_uri": "https://localhost:8080/",
          "height": 575
        },
        "id": "---KqBJyMJ9Q",
        "outputId": "ab4da6fc-93e0-48ee-8198-3900919cc555"
      },
      "outputs": [],
      "source": [
        "# 3D view\n",
        "import numpy as np\n",
        "import matplotlib.pyplot as plt\n",
        "from numpy import random\n",
        "\n",
        "fig = plt.figure(figsize=(10, 10))\n",
        "ax = fig.add_subplot(projection='3d')\n",
        "x = np.arange(-1.28, 1.28, 0.1)\n",
        "y = np.arange(-1.28, 1.28, 0.1)\n",
        "x, y = np.meshgrid(x, y)\n",
        "z = random.randint(0, 1)\n",
        "sum = 0\n",
        "for i in range(10):\n",
        "    sum = sum + (i * (x**4 + y**4))\n",
        "result = sum + z\n",
        "surface = ax.plot_surface(x, y, result, cmap='jet')\n",
        "plt.show()\n"
      ]
    },
    {
      "cell_type": "markdown",
      "id": "srAz5jBIC23l",
      "metadata": {
        "id": "srAz5jBIC23l"
      },
      "source": [
        "## **Exercício 2: Ackley Function**\n",
        "\n",
        "-   https://www.cs.unm.edu/~neal.holts/dga/benchmarkFunction/ackley.html\n",
        "-   http://www.sfu.ca/~ssurjano/ackley.html\n",
        "\n",
        "$$f(x) = -20 exp(-0.2 \\sqrt{\\frac{1}{n} \\sum_{i=1}^n x_i^2}) - exp(\\frac{1}{n} \\sum_{i=1}^n cos(2\\pi x_i)) + 20 + e$$\n",
        "\n",
        "$$-32.768 \\leq x \\leq 32.768$$\n",
        "\n",
        "$$\\text{minimum at }f(0) = 0$$\n"
      ]
    },
    {
      "cell_type": "code",
      "execution_count": null,
      "id": "49f19e58",
      "metadata": {
        "colab": {
          "base_uri": "https://localhost:8080/",
          "height": 575
        },
        "id": "49f19e58",
        "outputId": "ec0b6ba2-ac5d-43b7-de2c-ac6a4cfd841c"
      },
      "outputs": [],
      "source": [
        "# 3D view\n",
        "from numpy import arange\n",
        "from numpy import exp\n",
        "from numpy import sqrt\n",
        "from numpy import cos\n",
        "from numpy import e\n",
        "from numpy import pi\n",
        "from numpy import meshgrid\n",
        "import matplotlib.pyplot as plt\n",
        "\n",
        "\n",
        "def objective_Prof(x, y):\n",
        "    return -20.0 * exp(-0.2 * sqrt(0.5 * (x**2 + y**2))) - exp(\n",
        "        0.5 * (cos(2 * pi * x) + cos(2 * pi * y))) + e + 20\n",
        "\n",
        "\n",
        "r_min, r_max = -32.768, 32.768\n",
        "# sample input range uniformly at 0.5 increments\n",
        "xaxis = arange(r_min, r_max, 0.5)\n",
        "yaxis = arange(r_min, r_max, 0.5)\n",
        "# create a mesh from the axis\n",
        "x, y = meshgrid(xaxis, yaxis)\n",
        "# compute targets\n",
        "results = objective_Prof(x, y)\n",
        "# create a surface plot with the jet color scheme\n",
        "figure = plt.figure(figsize=(10, 10))\n",
        "axis = figure.add_subplot(projection='3d')\n",
        "axis.plot_surface(x, y, results, cmap='jet')\n",
        "# show the plot\n",
        "plt.show()\n"
      ]
    },
    {
      "cell_type": "markdown",
      "id": "eOtg-3D7cGUE",
      "metadata": {
        "id": "eOtg-3D7cGUE"
      },
      "source": []
    },
    {
      "cell_type": "code",
      "execution_count": null,
      "id": "wgV767JbE8tL",
      "metadata": {
        "id": "wgV767JbE8tL"
      },
      "outputs": [],
      "source": [
        "# Inclusão de bibliotecas\n",
        "import numpy as np\n",
        "import pandas as pd\n",
        "import matplotlib.pyplot as plt\n",
        "from numpy.random import randint, rand, uniform\n",
        "from math import pi, sin\n",
        "from IPython.display import clear_output\n",
        "from time import sleep\n",
        "import math"
      ]
    },
    {
      "cell_type": "code",
      "execution_count": null,
      "id": "40ce9c67",
      "metadata": {
        "id": "40ce9c67"
      },
      "outputs": [],
      "source": [
        "# Função auxiliar converte valor representado em decimal no tipo string para lista.\n",
        "# Representação do decimal no tipo string, parametro float_string,\n",
        "# precisa ter no minimo um inteiro separado por '.' e no minimo um decimal.\n",
        "def encode(float_string):\n",
        "    encode = []\n",
        "    float_string = float_string.split(\".\")\n",
        "    for i in float_string:\n",
        "        temp = []\n",
        "        for j in i:\n",
        "            temp.append(int(j))\n",
        "        encode.append(temp)\n",
        "    return encode"
      ]
    },
    {
      "cell_type": "code",
      "execution_count": null,
      "id": "m7cyQ9gH7rq7",
      "metadata": {
        "id": "m7cyQ9gH7rq7"
      },
      "outputs": [],
      "source": [
        "# Função auxiliar converte valor representado em decimal no tipo lista para decimal no tipo string.\n",
        "# Representado em decimal no tipo lista, parametro list_float_string,\n",
        "# precisa ter no minimo um inteiro dentro de outra lista e no minimo outra lista com um decimal.\n",
        "def decode(list_float_string):\n",
        "    tempR = []\n",
        "    for i in list_float_string:\n",
        "        temp = \"\"\n",
        "        for j in i:\n",
        "            temp += str(j)\n",
        "        tempR.append(temp)\n",
        "    return tempR[0] + \".\" + tempR[1]"
      ]
    },
    {
      "cell_type": "code",
      "execution_count": null,
      "id": "mz8jEp4g7oaz",
      "metadata": {
        "id": "mz8jEp4g7oaz"
      },
      "outputs": [],
      "source": [
        "# Função auxiliar converte valor float para binario no tipo string separado por '.'.\n",
        "# float, parametro num.\n",
        "def float_to_bin(num):\n",
        "    if num < 0:\n",
        "        num = abs(num)\n",
        "        num = np.format_float_positional(num).split(\".\")\n",
        "        zrs = \"\"\n",
        "        for i in num[1]:\n",
        "            if i == \"0\":\n",
        "                zrs += \"0\"\n",
        "            else:\n",
        "                break\n",
        "        if len(num[1]) == 0:\n",
        "            num[1] = \"0\"\n",
        "        num = \"1\" + bin(int(num[0]))[2:] + \".\" + zrs + bin(int(num[1]))[2:]\n",
        "    else:\n",
        "        num = abs(num)\n",
        "        num = np.format_float_positional(num).split(\".\")\n",
        "        zrs = \"\"\n",
        "        for i in num[1]:\n",
        "            if i == \"0\":\n",
        "                zrs += \"0\"\n",
        "            else:\n",
        "                break\n",
        "        if len(num[1]) == 0:\n",
        "            num[1] = \"0\"\n",
        "        num = \"0\" + bin(int(num[0]))[2:] + \".\" + zrs + bin(int(num[1]))[2:]\n",
        "    return num"
      ]
    },
    {
      "cell_type": "code",
      "execution_count": null,
      "id": "mN8b9_B47mfk",
      "metadata": {
        "id": "mN8b9_B47mfk"
      },
      "outputs": [],
      "source": [
        "# Função auxiliar converte valor representado em binario no tipo string separado por '.' para float.\n",
        "# Representação em binario no tipo string, parametro binary,\n",
        "# precisa ter no minimo um inteiro em binario separado por '.' e no minimo um decimal em binario.\n",
        "def bin_to_float(binary):\n",
        "    if binary[0] == \"0\":\n",
        "        binary = binary[1:]\n",
        "        binary = binary.split(\".\")\n",
        "\n",
        "        zrs = \"\"\n",
        "        for i in binary[1]:\n",
        "            if i == \"0\":\n",
        "                zrs += \"0\"\n",
        "            else:\n",
        "                break\n",
        "        return float(\n",
        "            str(int(binary[0], 2)) + \".\" + zrs + str(int(binary[1], 2)))\n",
        "    else:\n",
        "        binary = binary[1:]\n",
        "        binary = binary.split(\".\")\n",
        "        zrs = \"\"\n",
        "        for i in binary[1]:\n",
        "            if i == \"0\":\n",
        "                zrs += \"0\"\n",
        "            else:\n",
        "                break\n",
        "        return -float(\n",
        "            str(int(binary[0], 2)) + \".\" + zrs + str(int(binary[1], 2)))"
      ]
    },
    {
      "cell_type": "code",
      "execution_count": null,
      "id": "6d673631",
      "metadata": {
        "id": "6d673631"
      },
      "outputs": [],
      "source": [
        "# Função auxiliar para imprimir a amostra.\n",
        "def defaultPrint(amostra, difRuido=False):\n",
        "    global ruido\n",
        "    for index, individuo in enumerate(amostra):\n",
        "        p = \"\"\n",
        "        for i in individuo[0]:\n",
        "            p += np.format_float_positional(bin_to_float(decode(i))) + \" | \"\n",
        "        print(\"Individuo: \",p)\n",
        "        if not difRuido:\n",
        "          print(\"Score: \", np.format_float_positional(individuo[1]), \"\\n\")\n",
        "        else:\n",
        "          print(\"Score: \", np.format_float_positional(individuo[1]), \"\\tScore sem ruido: \", np.format_float_positional(individuo[1]-ruido), \"\\n\")\n",
        "\n"
      ]
    },
    {
      "cell_type": "code",
      "execution_count": null,
      "id": "395eb8df",
      "metadata": {
        "id": "395eb8df"
      },
      "outputs": [],
      "source": [
        "# Fitness da questão 1, Quartic Function, para n dimensões.\n",
        "def objective_Q1(cromossomos):\n",
        "    global ruido\n",
        "    _cromossomos = cromossomos.copy()\n",
        "    resp = 0\n",
        "    for i, j in enumerate(_cromossomos):\n",
        "        if type(j) == str:\n",
        "            _cromossomos[i] = bin_to_float(j)\n",
        "        elif type(j) == float:\n",
        "            _cromossomos[i] = j\n",
        "        elif type(j) == int:\n",
        "            _cromossomos[i] = float(j)\n",
        "        else:\n",
        "            _cromossomos[i] = bin_to_float(decode(j))\n",
        "        resp += (i+1) * _cromossomos[i]**4\n",
        "    return (resp + ruido)\n"
      ]
    },
    {
      "cell_type": "code",
      "execution_count": null,
      "id": "e970b45f",
      "metadata": {
        "id": "e970b45f"
      },
      "outputs": [],
      "source": [
        "# Fitness da questão 2, Ackley Function, para n dimensões.\n",
        "def objective_Q2(cromossomos):\n",
        "    _cromossomos = cromossomos.copy()\n",
        "    for i, j in enumerate(_cromossomos):\n",
        "        if type(j) == str:\n",
        "            _cromossomos[i] = bin_to_float(j)\n",
        "        elif type(j) == float:\n",
        "            _cromossomos[i] = j\n",
        "        elif type(j) == int:\n",
        "            _cromossomos[i] = float(j)\n",
        "        else:\n",
        "            _cromossomos[i] = bin_to_float(decode(j))\n",
        "    firstSum = 0.0\n",
        "    secondSum = 0.0\n",
        "    for c in _cromossomos:\n",
        "        firstSum += c**2.0\n",
        "        secondSum += math.cos(2.0 * math.pi * c)\n",
        "    n = float(len(_cromossomos))\n",
        "    return (-20.0 * math.exp(-0.2 * math.sqrt(firstSum / n)) -\n",
        "             math.exp(secondSum / n) + 20 + math.e)\n"
      ]
    },
    {
      "cell_type": "code",
      "execution_count": null,
      "id": "20f336b7",
      "metadata": {
        "id": "20f336b7"
      },
      "outputs": [],
      "source": [
        "# Gera a primeira população com fitness das n dimensões restringindo o domínio da função.\n",
        "def firstGenGenerator(objective, dim, minX, maxX, n_pop):\n",
        "    amostra = []\n",
        "    for _ in range(n_pop):\n",
        "        bits = []\n",
        "        for i in range(dim):\n",
        "            bits.append(encode(float_to_bin(uniform(minX, maxX))))\n",
        "        score = objective(bits)\n",
        "        amostra.append([bits, score])\n",
        "    return amostra"
      ]
    },
    {
      "cell_type": "code",
      "execution_count": null,
      "id": "b2a9d0e9",
      "metadata": {
        "id": "b2a9d0e9"
      },
      "outputs": [],
      "source": [
        "# Seleção por torneio\n",
        "# Melhor estrategia estuda para selecionar individuos,\n",
        "# quando se trata de encontrar max ou min de funções.\n",
        "def tournament(amostra, maxQtd):\n",
        "    while len(amostra) > maxQtd:\n",
        "        while True:\n",
        "            i1, i2 = randint(0, len(amostra), 2)\n",
        "            if i1 != i2:\n",
        "                break\n",
        "        if amostra[i1][1] > amostra[i2][1]:\n",
        "            amostra.pop(i1)\n",
        "        else:\n",
        "            amostra.pop(i2)"
      ]
    },
    {
      "cell_type": "code",
      "execution_count": null,
      "id": "Qq83qSmc7c0o",
      "metadata": {
        "id": "Qq83qSmc7c0o"
      },
      "outputs": [],
      "source": [
        "# Reprodução ou cruzamento\n",
        "# consiste no processo em que dois individuos produzem descendentes,\n",
        "# passando a eles uma cópia de parte de seus genes.\n",
        "def crossOver(individuo_1, individuo_2):\n",
        "    if len(individuo_1[0]) > len(individuo_2[0]):\n",
        "        for i in range(0, len(individuo_1[0]) - len(individuo_2[0])):\n",
        "            individuo_2[0].insert(1, 0)\n",
        "    elif len(individuo_1[0]) < len(individuo_2[0]):\n",
        "        for i in range(0, len(individuo_2[0]) - len(individuo_1[0])):\n",
        "            individuo_1[0].insert(1, 0)\n",
        "\n",
        "    if len(individuo_1[1]) >= len(individuo_2[1]):\n",
        "        for i in range(0, len(individuo_1[1]) - len(individuo_2[1])):\n",
        "            individuo_2[1].append(0)\n",
        "    else:\n",
        "        for i in range(0, len(individuo_2[1]) - len(individuo_1[1])):\n",
        "            individuo_1[1].append(0)\n",
        "    filho_1 = [[], []]\n",
        "    filho_2 = [[], []]\n",
        "    ponto_de_corte = 1\n",
        "    if 1 < (len(individuo_1[0]) - 1):\n",
        "      ponto_de_corte = randint(1, len(individuo_1[0]) - 1)\n",
        "    filho_1[0] = individuo_1[0][:ponto_de_corte] + \\\n",
        "        individuo_2[0][ponto_de_corte:]\n",
        "    filho_2[0] = individuo_2[0][:ponto_de_corte] + \\\n",
        "        individuo_1[0][ponto_de_corte:]\n",
        "    ponto_de_corte = randint(0, len(individuo_1[1]) - 1)\n",
        "    filho_1[1] = individuo_1[1][:ponto_de_corte] + \\\n",
        "        individuo_2[1][ponto_de_corte:]\n",
        "    filho_2[1] = individuo_2[1][:ponto_de_corte] + \\\n",
        "        individuo_1[1][ponto_de_corte:]\n",
        "    return filho_1, filho_2"
      ]
    },
    {
      "cell_type": "code",
      "execution_count": null,
      "id": "ojRHdpTk7aDI",
      "metadata": {
        "id": "ojRHdpTk7aDI"
      },
      "outputs": [],
      "source": [
        "# Mutação\n",
        "# é uma mudança no 'cromossomo' que pode ser benéfica ou não para o individuo\n",
        "# ou ainda não causar nenhum dano ou vantagem.\n",
        "def mutacao(individuo, probMutacao):\n",
        "    global mut\n",
        "    stts = False\n",
        "    for i in range(len(individuo)):\n",
        "        for j in range(len(individuo[i])):\n",
        "            if rand() <= probMutacao:\n",
        "                stts = True\n",
        "                individuo[i][j] = 1 if individuo[i][j] == 0 else 0\n",
        "    if stts:\n",
        "        mut += 1\n",
        "    return individuo"
      ]
    },
    {
      "cell_type": "code",
      "execution_count": null,
      "id": "sW-X2WhT7X7Y",
      "metadata": {
        "id": "sW-X2WhT7X7Y"
      },
      "outputs": [],
      "source": [
        "# Eletismo função que favorece os melhores elementos da populaçãop,\n",
        "# ou de uma minoria que detém valor proximo ao objeitvo ou melhor,\n",
        "# em detrimento de seus demais componentes.\n",
        "def elitism(amostra):\n",
        "    bestScore = amostra[0][1]\n",
        "    bestIndex = 0\n",
        "    for k, i in enumerate(amostra):\n",
        "        if i[1] < bestScore:\n",
        "            bestScore = i[1]\n",
        "            bestIndex = k\n",
        "    return amostra[bestIndex][0]"
      ]
    },
    {
      "cell_type": "code",
      "execution_count": null,
      "id": "JFwYOwoe7O9N",
      "metadata": {
        "id": "JFwYOwoe7O9N"
      },
      "outputs": [],
      "source": [
        "# Operadores genéticos - estrutura o processamento\n",
        "# Realiza seleção, cruzamentop, mutação e fitness.\n",
        "def iteracao(amostra, objective, minX, maxX, probMutacao):\n",
        "    novos_bits = []\n",
        "    elite = elitism(amostra)\n",
        "    novos_bits.append(elite)\n",
        "\n",
        "    for i, _ in enumerate(amostra):\n",
        "        filho_1 = []\n",
        "        filho_2 = []\n",
        "        for j, _ in enumerate(amostra[0][0]):\n",
        "            cromossomo_filho_1, cromossomo_filho_2 = crossOver(\n",
        "                amostra[i][0][j], amostra[i][0][(j - len(amostra[0][0]) + 1)])\n",
        "            filho_1.append(mutacao(cromossomo_filho_1, probMutacao))\n",
        "            filho_2.append(mutacao(cromossomo_filho_2, probMutacao))\n",
        "        novos_bits.append(filho_1)\n",
        "        novos_bits.append(filho_2)\n",
        "    nova_amostra = []\n",
        "\n",
        "    for i in novos_bits:\n",
        "        iRange = True\n",
        "        for j in i:\n",
        "            t = bin_to_float(decode(j))\n",
        "            if t < minX or t > maxX:\n",
        "                iRange = False\n",
        "                break\n",
        "        if iRange:\n",
        "            nova_amostra.append([i, objective(i)])\n",
        "        else:\n",
        "            bits = []\n",
        "            for _ in range(len(amostra[0][0])):\n",
        "                bits.append(encode(float_to_bin(uniform(minX, maxX))))\n",
        "            nova_amostra.append([bits, objective(bits)])\n",
        "    return nova_amostra, elite"
      ]
    },
    {
      "cell_type": "code",
      "execution_count": null,
      "id": "8128d31c",
      "metadata": {
        "id": "8128d31c"
      },
      "outputs": [],
      "source": [
        "# Algoritmo genético\n",
        "# Projeto de otimização deverão ser implementados:\n",
        "# Quartic Function.\n",
        "# Ackley Function.\n",
        "def geneticAlgorithm(\n",
        "    amostra,\n",
        "    objective,\n",
        "    minX,\n",
        "    maxX,\n",
        "    maxPop,\n",
        "    taxa_tolerancia,\n",
        "    taxaConvergencia,\n",
        "    n_max_sem_melhora,\n",
        "    probMutacao,\n",
        "):\n",
        "    global gen\n",
        "    global mut\n",
        "    gen = 0\n",
        "    mut = 0\n",
        "    nInt = 0\n",
        "    oldElite=None\n",
        "    while gen < maxGen: # Aqui podia sair quando chegar na resposta(se for conhecida)\n",
        "        gen += 1\n",
        "        clear_output(wait=True)\n",
        "        progress = gen/maxGen*100\n",
        "        print(f\"{progress:.2f}%\")\n",
        "        amostra, tempElite = iteracao(amostra, objective, minX, maxX, probMutacao)\n",
        "        if oldElite != None and objective(tempElite) == objective(oldElite):\n",
        "            nInt += 1\n",
        "        else:\n",
        "            nInt=0\n",
        "        oldElite = tempElite\n",
        "        tournament(amostra, maxPop)\n",
        "        convergencia = moda(amostra, taxa_tolerancia)\n",
        "        if convergencia[1]>=taxaConvergencia:\n",
        "            print(\"convergencia: \", convergencia)\n",
        "            return amostra\n",
        "        if nInt>=n_max_sem_melhora:\n",
        "            print(\"\\nNúmero máximo de iterações sem melhora\\n\")\n",
        "            return amostra\n",
        "    return amostra"
      ]
    },
    {
      "cell_type": "code",
      "execution_count": null,
      "id": "SUdAogWzmuzx",
      "metadata": {
        "id": "SUdAogWzmuzx"
      },
      "outputs": [],
      "source": [
        "def desvioPadrao(amostra, media = None):\n",
        "    soma = 0\n",
        "    if media is None:\n",
        "        media = 0\n",
        "        for x in amostra:\n",
        "            media+=x[1]\n",
        "        media=media/len(amostra)\n",
        "    for i, x in enumerate(amostra):\n",
        "        soma += ((x[1] - media)**2)\n",
        "    desvio = ((soma/(len(amostra)-1)) ** 0.5)\n",
        "    return desvio"
      ]
    },
    {
      "cell_type": "code",
      "execution_count": null,
      "id": "3bRcEk6yILUT",
      "metadata": {
        "id": "3bRcEk6yILUT"
      },
      "outputs": [],
      "source": [
        "def info(amostra, difRuido=False):\n",
        "    global ruido\n",
        "    melhor = amostra[0][1]\n",
        "    pior = amostra[0][1]\n",
        "    media = 0\n",
        "    soma = 0\n",
        "    for x in amostra:\n",
        "        if x[1] < melhor:\n",
        "            melhor = x[1]\n",
        "        if x[1] > pior:\n",
        "            pior = x[1]\n",
        "        media += x[1]\n",
        "    media = media / len(amostra)\n",
        "\n",
        "    desvio = desvioPadrao(amostra, media)\n",
        "    print(f'\\nMelhor = {np.format_float_positional(melhor)}, Pior = {np.format_float_positional(pior)}, Media = {np.format_float_positional(media)}, Desvio Padrão = {desvio}\\n')\n",
        "    if difRuido:\n",
        "        print(f'SEM RUIDO: Melhor  = {np.format_float_positional(melhor-ruido)}, Pior = {np.format_float_positional(pior-ruido)}, Media = {np.format_float_positional(media-ruido)}\\n')\n",
        "\n"
      ]
    },
    {
      "cell_type": "code",
      "execution_count": null,
      "id": "Au7g_Ivcog8e",
      "metadata": {
        "id": "Au7g_Ivcog8e"
      },
      "outputs": [],
      "source": [
        "def moda(amostra, taxa_tolerancia):\n",
        "    modas=[]\n",
        "    for individuo in amostra:\n",
        "        temp_moda=[]\n",
        "        for individuo_2 in amostra:\n",
        "            if individuo[1]*(1+taxa_tolerancia) >= individuo_2[1] and individuo[1]*(1-taxa_tolerancia) <= individuo_2[1]:\n",
        "                temp_moda.append(individuo_2[1])\n",
        "        modas.append([individuo[1], len(temp_moda)/len(amostra)])\n",
        "    sorted(modas, key=lambda x: x[1], reverse=True)\n",
        "    return modas[0]\n"
      ]
    },
    {
      "cell_type": "code",
      "execution_count": null,
      "id": "78facdfd",
      "metadata": {
        "colab": {
          "base_uri": "https://localhost:8080/"
        },
        "id": "78facdfd",
        "outputId": "6fd9fbb4-0f94-4185-f7df-0290b4de93f1"
      },
      "outputs": [],
      "source": [
        "# Execução questão 1, Quartic Function, para n dimensões.\n",
        "#Se dim = 5 então uma boa taxa_tolerancia = 1e-1000\n",
        "#Se dim = 10 então uma boa taxa_tolerancia = 1e-1000000\n",
        "\n",
        "dim = 5\n",
        "minX = -1.28\n",
        "maxX = 1.28\n",
        "ruido = rand()\n",
        "maxPop = 16\n",
        "maxGen = 10240\n",
        "taxa_tolerancia = 0\n",
        "taxaConvergencia = 0.99\n",
        "n_max_sem_melhora = 10\n",
        "probMutacao = 0.005\n",
        "\n",
        "amostraInit = firstGenGenerator(objective_Q1, dim, minX, maxX, maxPop)\n",
        "amostraFin = amostraInit.copy()\n",
        "amostraFin = geneticAlgorithm(amostraFin, objective_Q1, minX, maxX, maxPop,taxa_tolerancia, taxaConvergencia, n_max_sem_melhora, probMutacao)\n",
        "\n",
        "print(\"Ruido: \", ruido)\n",
        "print(\"\\nPopulacao inicial: ----------------------------------------------------\")\n",
        "info(amostraInit, True)\n",
        "defaultPrint(amostraInit, True)\n",
        "\n",
        "print(\"\\nRuido: \", ruido)\n",
        "print(\"Geração final: --------------------------------------------------------\")\n",
        "print(\"Gerações: \", gen)\n",
        "print(\"Mutações: \", mut)\n",
        "info(amostraFin, True)\n",
        "defaultPrint(amostraFin, True)\n"
      ]
    },
    {
      "cell_type": "code",
      "execution_count": null,
      "id": "9d429016",
      "metadata": {
        "colab": {
          "base_uri": "https://localhost:8080/"
        },
        "id": "9d429016",
        "outputId": "44457ac5-cd9c-40f5-e02d-62172ae534fa"
      },
      "outputs": [],
      "source": [
        "# Execução questão 2, Ackley Function, para n dimensões.\n",
        "#Se dim=10 taxa_tolerancia=1e-10\n",
        "#Se dim=5 taxa_tolerancia=1e-1000\n",
        "\n",
        "dim = 5\n",
        "minX = -32.768\n",
        "maxX = 32.768\n",
        "maxPop = 64\n",
        "maxGen = 1024\n",
        "taxa_tolerancia = 0\n",
        "taxaConvergencia = 0.95\n",
        "n_max_sem_melhora = 10\n",
        "probMutacao = 0.001\n",
        "\n",
        "amostraInit = firstGenGenerator(objective_Q2, dim, minX, maxX, maxPop)\n",
        "amostraFin = amostraInit.copy()\n",
        "amostraFin = geneticAlgorithm(amostraFin, objective_Q2, minX, maxX, maxPop, taxa_tolerancia, taxaConvergencia, n_max_sem_melhora, probMutacao)\n",
        "\n",
        "print(\"\\nPopulacao inicial: ------------------------------------------------------------------------------------------------------------\")\n",
        "info(amostraInit)\n",
        "defaultPrint(amostraInit)\n",
        "\n",
        "print(\"\\nGeração final: ----------------------------------------------------------------------------------------------------------------\")\n",
        "print(\"Gerações: \", gen)\n",
        "print(\"Mutações: \", mut)\n",
        "info(amostraFin)\n",
        "defaultPrint(amostraFin)"
      ]
    }
  ],
  "metadata": {
    "colab": {
      "provenance": []
    },
    "kernelspec": {
      "display_name": "Python 3.8.10 64-bit (microsoft store)",
      "language": "python",
      "name": "python3"
    },
    "language_info": {
      "codemirror_mode": {
        "name": "ipython",
        "version": 3
      },
      "file_extension": ".py",
      "mimetype": "text/x-python",
      "name": "python",
      "nbconvert_exporter": "python",
      "pygments_lexer": "ipython3",
      "version": "3.12.2"
    },
    "vscode": {
      "interpreter": {
        "hash": "10d2f525b5d04a96b21e5b0127e4980144951deae166830ef2f6646032acc3cf"
      }
    }
  },
  "nbformat": 4,
  "nbformat_minor": 5
}
